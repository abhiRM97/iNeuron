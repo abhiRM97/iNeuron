{
 "cells": [
  {
   "cell_type": "code",
   "execution_count": null,
   "metadata": {},
   "outputs": [],
   "source": [
    "1.Write a Python program to convert kilometers to miles?"
   ]
  },
  {
   "cell_type": "code",
   "execution_count": null,
   "metadata": {},
   "outputs": [],
   "source": [
    "#take length input in kilometer\n",
    "K=int(input(\"Enter the value in Kilometer:\"))\n",
    "#convert kilometer into miles\n",
    "M=0.621371*K\n",
    "#print length in miles\n",
    "print(\"The value of input in miles is {} miles\".format(M))"
   ]
  },
  {
   "cell_type": "code",
   "execution_count": null,
   "metadata": {},
   "outputs": [],
   "source": [
    "2.Write a Python program to convert Celsius to Fahrenheit"
   ]
  },
  {
   "cell_type": "code",
   "execution_count": null,
   "metadata": {},
   "outputs": [],
   "source": [
    "#take temperature input in celsius\n",
    "C=int(input(\"Enter the temperature in Celsius:\"))\n",
    "#convert celsius into fahrenheit\n",
    "F=(C*9/5)+32\n",
    "#print temperature in  Fahrenheit\n",
    "print(\"The temperature in Fahrenheit is {}F\".format(F))"
   ]
  },
  {
   "cell_type": "code",
   "execution_count": null,
   "metadata": {},
   "outputs": [],
   "source": [
    "3.Write a Python program to display calendar?"
   ]
  },
  {
   "cell_type": "code",
   "execution_count": null,
   "metadata": {},
   "outputs": [],
   "source": [
    "#import calendar\n",
    "import calendar\n",
    "#take inputs for year and month \n",
    "y=int(input(\"Enter the year in'YYYY' format:\"))\n",
    "m=int(input(\"Enter the mmonth in'MM' format:\"))\n",
    "#Display calendar\n",
    "print(calendar.month(y,m))"
   ]
  },
  {
   "cell_type": "code",
   "execution_count": null,
   "metadata": {},
   "outputs": [],
   "source": [
    "4.Write a Python program to solve quadratic equation?"
   ]
  },
  {
   "cell_type": "code",
   "execution_count": null,
   "metadata": {},
   "outputs": [],
   "source": [
    "#take input variables for quadratic equation \n",
    "a=int(input(\"Enter value of a for the quadratic equation in 'ax**2 + bx + c = 0':\"))\n",
    "b=int(input(\"Enter value of b for the quadratic equation in 'ax**2 + bx + c = 0':\"))\n",
    "c=int(input(\"Enter value of c for the quadratic equation in 'ax**2 + bx + c = 0':\"))\n",
    "#calculate discriminant\n",
    "D=b**2-4*a*c\n",
    "#find solution\n",
    "soln1=(-b+D)/2*a\n",
    "soln2=(-b-D)/2*a\n",
    "#print solution\n",
    "print(\"The solution for quadratic equation {}x**2+{}x+{}=0 is {} and {}\".format(a,b,c,soln1,soln2))"
   ]
  },
  {
   "cell_type": "code",
   "execution_count": null,
   "metadata": {},
   "outputs": [],
   "source": [
    "5.Write a Python program to swap two variables without temp variable?"
   ]
  },
  {
   "cell_type": "code",
   "execution_count": null,
   "metadata": {},
   "outputs": [],
   "source": [
    "#take input from user\n",
    "x=input(\"Enter the value for first input:\")\n",
    "y=input(\"Enter the value for second input:\")\n",
    "#swap variables without temp variable\n",
    "y,x=x,y\n",
    "#print result\n",
    "print(\"After swapping, the value of x and y is {} and {}\".format(x,y))"
   ]
  },
  {
   "cell_type": "code",
   "execution_count": null,
   "metadata": {},
   "outputs": [],
   "source": []
  }
 ],
 "metadata": {
  "kernelspec": {
   "display_name": "Python 3",
   "language": "python",
   "name": "python3"
  },
  "language_info": {
   "codemirror_mode": {
    "name": "ipython",
    "version": 3
   },
   "file_extension": ".py",
   "mimetype": "text/x-python",
   "name": "python",
   "nbconvert_exporter": "python",
   "pygments_lexer": "ipython3",
   "version": "3.8.5"
  }
 },
 "nbformat": 4,
 "nbformat_minor": 4
}
