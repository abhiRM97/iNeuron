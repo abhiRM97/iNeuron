{
 "cells": [
  {
   "cell_type": "code",
   "execution_count": null,
   "metadata": {},
   "outputs": [],
   "source": [
    "1.Write a Python Program to Check if a Number is Positive, Negative or Zero?"
   ]
  },
  {
   "cell_type": "code",
   "execution_count": null,
   "metadata": {},
   "outputs": [],
   "source": [
    "#take a number\n",
    "n=int(input(\"Enter a number:\"))\n",
    "#check if the given number is positive, negative or zero\n",
    "if n<0:\n",
    "    print(\"The given number is negative\")\n",
    "elif n==0:\n",
    "    print(\"The given number is zero\")\n",
    "else:\n",
    "    print(\"The given number is positive\")"
   ]
  },
  {
   "cell_type": "code",
   "execution_count": null,
   "metadata": {},
   "outputs": [],
   "source": [
    "2.Write a Python Program to Check if a Number is Odd or Even?"
   ]
  },
  {
   "cell_type": "code",
   "execution_count": null,
   "metadata": {},
   "outputs": [],
   "source": [
    "#take a number\n",
    "n=int(input(\"Enter a number:\"))\n",
    "#check if a number is odd or even\n",
    "if n%2==0:\n",
    "    print(\"The given number is even\")\n",
    "else:\n",
    "    print(\"The given number is odd\")"
   ]
  },
  {
   "cell_type": "code",
   "execution_count": null,
   "metadata": {},
   "outputs": [],
   "source": [
    "3.Write a Python Program to Check Leap Year?"
   ]
  },
  {
   "cell_type": "code",
   "execution_count": null,
   "metadata": {},
   "outputs": [],
   "source": [
    "#take a year as input\n",
    "n=int(input(\"Enter a year:\"))\n",
    "#check if the given year is leap year or not\n",
    "if n%400==0 and n%100==0:\n",
    "        print(\"It is a leap year:\",n)\n",
    "elif n%4==0 and n%100!=0:\n",
    "    print(\"It is a leap year:\",n)\n",
    "else:\n",
    "    print(\"It is not a leap year:\",n)"
   ]
  },
  {
   "cell_type": "code",
   "execution_count": null,
   "metadata": {},
   "outputs": [],
   "source": [
    "4.Write a Python Program to Check Prime Number?"
   ]
  },
  {
   "cell_type": "code",
   "execution_count": null,
   "metadata": {},
   "outputs": [],
   "source": [
    "#take a number as input\n",
    "n=int(input(\"Enter a number:\"))\n",
    "#check if the given number is prime or not\n",
    "for i in range(2,n):\n",
    "    if n%i==0:\n",
    "        Result=True\n",
    "        break\n",
    "    else:\n",
    "        Result=False\n",
    "#print results\n",
    "if Result==True:\n",
    "    print(\"The given number {} is not a prime number\".format(n))\n",
    "else:\n",
    "    print(\"The given number {} is a prime number\".format(n))"
   ]
  },
  {
   "cell_type": "code",
   "execution_count": null,
   "metadata": {},
   "outputs": [],
   "source": [
    "5.Write a Python Program to Print all Prime Numbers in an Interval of 1-10000?"
   ]
  },
  {
   "cell_type": "code",
   "execution_count": null,
   "metadata": {},
   "outputs": [],
   "source": [
    "Prime=[1]\n",
    "#check if the number is prime or not\n",
    "for n in range(1,10000+1):\n",
    "    if n>1:\n",
    "        for i in range(2,n):\n",
    "            if (n%i)==0:\n",
    "                break\n",
    "        else:\n",
    "            Prime.append(n)\n",
    "#print all prime numbers in an interval of 1-10000\n",
    "print(Prime)"
   ]
  }
 ],
 "metadata": {
  "kernelspec": {
   "display_name": "Python 3",
   "language": "python",
   "name": "python3"
  },
  "language_info": {
   "codemirror_mode": {
    "name": "ipython",
    "version": 3
   },
   "file_extension": ".py",
   "mimetype": "text/x-python",
   "name": "python",
   "nbconvert_exporter": "python",
   "pygments_lexer": "ipython3",
   "version": "3.8.5"
  }
 },
 "nbformat": 4,
 "nbformat_minor": 4
}
