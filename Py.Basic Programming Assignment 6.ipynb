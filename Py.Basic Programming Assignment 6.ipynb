{
 "cells": [
  {
   "cell_type": "code",
   "execution_count": null,
   "metadata": {},
   "outputs": [],
   "source": [
    "1.Write a Python Program to Display Fibonacci Sequence Using Recursion?"
   ]
  },
  {
   "cell_type": "code",
   "execution_count": null,
   "metadata": {},
   "outputs": [],
   "source": [
    "#take number of terms for Fibonacci sequence as input\n",
    "t=int(input(\"Enter the number of terms for Fibonacci sequence:\"))\n",
    "def Fibonacci(n):\n",
    "    if n <= 1:\n",
    "        return n\n",
    "    else:\n",
    "        return(Fibonacci(n-1) + Fibonacci(n-2))\n",
    "# check if the number of terms is valid\n",
    "if t <= 0:\n",
    "    print(\"Plese enter a positive integer\")\n",
    "else:\n",
    "    print(\"Fibonacci sequence:\")\n",
    "    for i in range(t):\n",
    "        print(Fibonacci(i))"
   ]
  },
  {
   "cell_type": "code",
   "execution_count": null,
   "metadata": {},
   "outputs": [],
   "source": [
    "2.Write a Python Program to Find Factorial of Number Using Recursion?"
   ]
  },
  {
   "cell_type": "code",
   "execution_count": null,
   "metadata": {},
   "outputs": [],
   "source": [
    "def Factorial(n):\n",
    "    if n==0:\n",
    "        return 1\n",
    "    else:\n",
    "        return Factorial(n-1)*n\n",
    "#take a number to find its factorial as input\n",
    "n=int(input(\"Enter the number to find factorial:\"))\n",
    "#print factorial\n",
    "print(Factorial(n))"
   ]
  },
  {
   "cell_type": "code",
   "execution_count": null,
   "metadata": {},
   "outputs": [],
   "source": [
    "3.Write a Python Program to calculate your Body Mass Index?"
   ]
  },
  {
   "cell_type": "code",
   "execution_count": null,
   "metadata": {},
   "outputs": [],
   "source": [
    "def bmi():\n",
    "    BMI=w/h*h\n",
    "    print(BMI)\n",
    "#take weight and height as inpur=t\n",
    "w=int(input(\"Enter your weight in Kilogram:\"))\n",
    "h=int(input(\"Enter your height in Meter:\"))\n",
    "#calculate bmi\n",
    "bmi()"
   ]
  },
  {
   "cell_type": "code",
   "execution_count": null,
   "metadata": {},
   "outputs": [],
   "source": [
    "4.Write a Python Program to calculate the natural logarithm of any number?"
   ]
  },
  {
   "cell_type": "code",
   "execution_count": null,
   "metadata": {},
   "outputs": [],
   "source": [
    "#import numpy\n",
    "import numpy as np\n",
    "#take a number as input to find its logarithm\n",
    "n=int(input(\"Enter a number to calculate the natural logarithm:\"))\n",
    "#print the natural logarithm of the given number\n",
    "print(\"The natural logarithm of {} is {}\".format(n,np.log(n)))"
   ]
  },
  {
   "cell_type": "code",
   "execution_count": null,
   "metadata": {},
   "outputs": [],
   "source": [
    "5.Write a Python Program for cube sum of first n natural numbers?"
   ]
  },
  {
   "cell_type": "code",
   "execution_count": null,
   "metadata": {},
   "outputs": [],
   "source": [
    "#take a number as input\n",
    "n=int(input(\"Enter the number for cube sum:\"))\n",
    "#find the cube sum\n",
    "Result=0\n",
    "for i in range(n+1):\n",
    "    Result+=i**3\n",
    "#print the cube sum \n",
    "print(\"The cube sum of first {} natural numbers is:{}\".format(n,Result))"
   ]
  }
 ],
 "metadata": {
  "kernelspec": {
   "display_name": "Python 3",
   "language": "python",
   "name": "python3"
  },
  "language_info": {
   "codemirror_mode": {
    "name": "ipython",
    "version": 3
   },
   "file_extension": ".py",
   "mimetype": "text/x-python",
   "name": "python",
   "nbconvert_exporter": "python",
   "pygments_lexer": "ipython3",
   "version": "3.8.5"
  }
 },
 "nbformat": 4,
 "nbformat_minor": 4
}
