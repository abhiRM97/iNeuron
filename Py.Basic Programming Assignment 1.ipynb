{
 "cells": [
  {
   "cell_type": "code",
   "execution_count": null,
   "metadata": {},
   "outputs": [],
   "source": [
    "1.Write a Python program to print \"Hello Python\"?"
   ]
  },
  {
   "cell_type": "code",
   "execution_count": null,
   "metadata": {},
   "outputs": [],
   "source": [
    "Result=\"Hello Python\"\n",
    "print(Result)"
   ]
  },
  {
   "cell_type": "code",
   "execution_count": null,
   "metadata": {},
   "outputs": [],
   "source": [
    "2.Write a Python program to do arithmetical operations addition and division.?"
   ]
  },
  {
   "cell_type": "code",
   "execution_count": null,
   "metadata": {},
   "outputs": [],
   "source": [
    "#take input from user\n",
    "num1=int(input(\"Enter first input value: \"))\n",
    "num2=int(input(\"Enter second input value: \"))\n",
    "#Add numbers\n",
    "Result1=num1+num2\n",
    "print(\"The result after Addition of {} and {} is {}\".format(num1,num2,Result1))\n",
    "# Divide numbers\n",
    "Result2=num1/num2\n",
    "print(\"The result after Division of {} and {} is {}\".format(num1,num2,Result2))"
   ]
  },
  {
   "cell_type": "code",
   "execution_count": null,
   "metadata": {},
   "outputs": [],
   "source": [
    "3.Write a Python program to find the area of a triangle?"
   ]
  },
  {
   "cell_type": "code",
   "execution_count": null,
   "metadata": {},
   "outputs": [],
   "source": [
    "#take measurements of breadth and height from user\n",
    "b=int(input(\"Enter the breadth of triangle:\"))\n",
    "h=int(input(\"Enter the height of triangle:\"))\n",
    "#calculate area of triangle\n",
    "A=0.5*b*h\n",
    "#print area of triangle\n",
    "print(\"The area of triangle is {} units\".format(A))"
   ]
  },
  {
   "cell_type": "code",
   "execution_count": null,
   "metadata": {},
   "outputs": [],
   "source": [
    "4.Write a Python program to swap two variables"
   ]
  },
  {
   "cell_type": "code",
   "execution_count": null,
   "metadata": {},
   "outputs": [],
   "source": [
    "#take input from user\n",
    "x=input(\"Enter value for variable x:\")\n",
    "y=input(\"Enter value for variable y:\")\n",
    "#swap variables\n",
    "temp=x\n",
    "x=y\n",
    "y=temp\n",
    "#print swapped variables\n",
    "print(\"After swapping, value of x and y is {} and {}\".format(x,y))"
   ]
  },
  {
   "cell_type": "code",
   "execution_count": null,
   "metadata": {},
   "outputs": [],
   "source": [
    "5.Write a Python program to generate a random number"
   ]
  },
  {
   "cell_type": "code",
   "execution_count": null,
   "metadata": {},
   "outputs": [],
   "source": [
    "#import random\n",
    "import random\n",
    "l=[]\n",
    "#take input from user\n",
    "for i in range(5):\n",
    "    i=int(input(\"Enter numbers for random selection:\"))\n",
    "    l.append(i)\n",
    "#print a random number\n",
    "print(random.choice(l))"
   ]
  }
 ],
 "metadata": {
  "kernelspec": {
   "display_name": "Python 3",
   "language": "python",
   "name": "python3"
  },
  "language_info": {
   "codemirror_mode": {
    "name": "ipython",
    "version": 3
   },
   "file_extension": ".py",
   "mimetype": "text/x-python",
   "name": "python",
   "nbconvert_exporter": "python",
   "pygments_lexer": "ipython3",
   "version": "3.8.5"
  }
 },
 "nbformat": 4,
 "nbformat_minor": 4
}
