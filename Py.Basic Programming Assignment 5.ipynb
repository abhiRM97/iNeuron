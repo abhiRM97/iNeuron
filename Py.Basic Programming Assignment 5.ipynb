{
 "cells": [
  {
   "cell_type": "code",
   "execution_count": null,
   "metadata": {},
   "outputs": [],
   "source": [
    "1.Write a Python Program to Find LCM?"
   ]
  },
  {
   "cell_type": "code",
   "execution_count": null,
   "metadata": {},
   "outputs": [],
   "source": [
    "#take two numbers as input\n",
    "a=int(input(\"Enter the first number:\"))\n",
    "b=int(input(\"Enter the second number:\"))\n",
    "#find lcm\n",
    "if a>b:\n",
    "    N=a\n",
    "else:\n",
    "    N=b\n",
    "while(True):\n",
    "    if N%a==0 and N%b==0:\n",
    "        LCM=N\n",
    "        break\n",
    "    N+=1\n",
    "#print lcm\n",
    "print(\"The LCM of {} and {} is {}\".format(a,b,N))"
   ]
  },
  {
   "cell_type": "code",
   "execution_count": null,
   "metadata": {},
   "outputs": [],
   "source": [
    "2.Write a Python Program to Find HCF?"
   ]
  },
  {
   "cell_type": "code",
   "execution_count": null,
   "metadata": {},
   "outputs": [],
   "source": [
    "#take two numbers as input\n",
    "a=int(input(\"Enter the first number:\"))\n",
    "b=int(input(\"Enter the second number:\"))\n",
    "#find LCM\n",
    "if a>b:\n",
    "    N=a\n",
    "else:\n",
    "    N=b\n",
    "while(True):\n",
    "    if N%a==0 and N%b==0:\n",
    "        LCM=N\n",
    "        break\n",
    "    N+=1\n",
    "#find HCF\n",
    "HCF=(a*b)/LCM\n",
    "#print HCF\n",
    "print(\"The HCF of {} and {} is {}\".format(a,b,HCF))"
   ]
  },
  {
   "cell_type": "code",
   "execution_count": null,
   "metadata": {},
   "outputs": [],
   "source": [
    "3.Write a Python Program to Convert Decimal to Binary, Octal and Hexadecimal?"
   ]
  },
  {
   "cell_type": "code",
   "execution_count": null,
   "metadata": {},
   "outputs": [],
   "source": [
    "#take a number as input\n",
    "n=int(input(\"Enter a number:\"))\n",
    "#convert to binary using in-built finction\n",
    "print(\"The Binary value of {} is {}\".format(n,bin(n)))\n",
    "#convert to Octal using in-built finction\n",
    "print(\"The Octal value of {} is {}\".format(n,oct(n)))\n",
    "#convert to Hexadecimal using in-built finction\n",
    "print(\"The Hexadecimal value of {} is {}\".format(n,hex(n)))"
   ]
  },
  {
   "cell_type": "code",
   "execution_count": null,
   "metadata": {},
   "outputs": [],
   "source": [
    "4.Write a Python Program To Find ASCII value of a character?"
   ]
  },
  {
   "cell_type": "code",
   "execution_count": null,
   "metadata": {},
   "outputs": [],
   "source": [
    "#take a character as input\n",
    "s=(input(\"Enter a character:\"))\n",
    "#find ASCII value using in-built finction\n",
    "print(\"The ASCII value of {} is {}\".format(s,ord(s)))"
   ]
  },
  {
   "cell_type": "code",
   "execution_count": null,
   "metadata": {},
   "outputs": [],
   "source": [
    "5.Write a Python Program to Make a Simple Calculator with 4 basic mathematical operations?"
   ]
  },
  {
   "cell_type": "code",
   "execution_count": null,
   "metadata": {},
   "outputs": [],
   "source": [
    "n=0\n",
    "while n<1:\n",
    "    print(\"Operations available are as follows:\\n For Additon, press 1\\n For Subtraction, press 2\\n For Multiplication, press 3\\n For Division, press 4\")\n",
    "    op=int(input(\"Press the key:\"))\n",
    "    n1=int(input(\"Enter the first number:\"))\n",
    "    n2=int(input(\"Enter the second number:\"))\n",
    "    if op==1:\n",
    "        print(n1+n2)\n",
    "    if op==2:\n",
    "        print(n1-n2)\n",
    "    if op==3:\n",
    "        print(n1*n2)\n",
    "    if op==4:\n",
    "        print(n1/n2)\n",
    "    c=input(\"Do you want to continue operation? If 'YES', type Y. If 'NO', type N: \")\n",
    "    if c=='Y':\n",
    "        continue\n",
    "    else:\n",
    "        break"
   ]
  }
 ],
 "metadata": {
  "kernelspec": {
   "display_name": "Python 3",
   "language": "python",
   "name": "python3"
  },
  "language_info": {
   "codemirror_mode": {
    "name": "ipython",
    "version": 3
   },
   "file_extension": ".py",
   "mimetype": "text/x-python",
   "name": "python",
   "nbconvert_exporter": "python",
   "pygments_lexer": "ipython3",
   "version": "3.8.5"
  }
 },
 "nbformat": 4,
 "nbformat_minor": 4
}
