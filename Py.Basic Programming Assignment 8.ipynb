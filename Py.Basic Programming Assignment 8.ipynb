{
 "cells": [
  {
   "cell_type": "code",
   "execution_count": null,
   "metadata": {},
   "outputs": [],
   "source": [
    "1.Write a Python Program to Add Two Matrices?"
   ]
  },
  {
   "cell_type": "code",
   "execution_count": null,
   "metadata": {},
   "outputs": [],
   "source": [
    "#take two matrices\n",
    "X=[[1,2,78],[45,56,67],[41,52,69]]\n",
    "Y=[[12,25,89],[48,56,71],[13,18,16]]\n",
    "result=[[0,0,0],[0,0,0],[0,0,0]]\n",
    "#Python Program to Add Two Matrices\n",
    "for i in range(len(X)):\n",
    "    for j in range(len(X[0])):\n",
    "        result[i][j]=X[i][j]+Y[i][j]\n",
    "#print result\n",
    "print(result)"
   ]
  },
  {
   "cell_type": "code",
   "execution_count": null,
   "metadata": {},
   "outputs": [],
   "source": [
    "2.Write a Python Program to Multiply Two Matrices?"
   ]
  },
  {
   "cell_type": "code",
   "execution_count": null,
   "metadata": {},
   "outputs": [],
   "source": [
    "#take two matrices\n",
    "X=[[1,2,78],[45,56,67],[41,52,69]]\n",
    "Y=[[12,25,89],[48,56,71],[13,18,16]]\n",
    "result=[[0,0,0],[0,0,0],[0,0,0]]\n",
    "#Python Program to Multiply Two Matrices\n",
    "for i in range(len(X)):\n",
    "    for j in range(len(X[0])):\n",
    "        result[i][j]=X[i][j]*Y[i][j]\n",
    "#print result\n",
    "print(result)"
   ]
  },
  {
   "cell_type": "code",
   "execution_count": null,
   "metadata": {},
   "outputs": [],
   "source": [
    "3.Write a Python Program to Transpose a Matrix?"
   ]
  },
  {
   "cell_type": "code",
   "execution_count": null,
   "metadata": {},
   "outputs": [],
   "source": [
    "#take a matrix\n",
    "X=[[1,2,78],[45,56,67]]\n",
    "result=[[0,0],[0,0],[0,0]]\n",
    "#transpose the matrix\n",
    "for i in range(len(X)):\n",
    "    for j in range(len(X[0])):\n",
    "        result[j][i]=X[i][j]\n",
    "#print result\n",
    "print(result)"
   ]
  },
  {
   "cell_type": "code",
   "execution_count": null,
   "metadata": {},
   "outputs": [],
   "source": [
    "4.Write a Python Program to Sort Words in Alphabetic Order?"
   ]
  },
  {
   "cell_type": "code",
   "execution_count": null,
   "metadata": {},
   "outputs": [],
   "source": [
    "#take a string as input\n",
    "string=\"I love India\"\n",
    "#Python Program to Sort Words in Alphabetic Order\n",
    "str_split=string.split()\n",
    "l=[]\n",
    "for i in range(len(str_split)):\n",
    "    l.append(str_split[i])\n",
    "l.sort()\n",
    "#print result\n",
    "print(l)"
   ]
  },
  {
   "cell_type": "code",
   "execution_count": null,
   "metadata": {},
   "outputs": [],
   "source": [
    "5.Write a Python Program to Remove Punctuation From a String?"
   ]
  },
  {
   "cell_type": "code",
   "execution_count": null,
   "metadata": {},
   "outputs": [],
   "source": [
    "#take a string as input\n",
    "string=\"What does he do? Actually, I don't know!\"\n",
    "#Python Program to Remove Punctuation From a String\n",
    "punc = '''!()-[]{};:'\"\\,<>./?@#$%^&*_~'''\n",
    "for i in string:\n",
    "    if i in punc:\n",
    "        string=string.replace(i,' ')\n",
    "#print result\n",
    "print(string)"
   ]
  }
 ],
 "metadata": {
  "kernelspec": {
   "display_name": "Python 3",
   "language": "python",
   "name": "python3"
  },
  "language_info": {
   "codemirror_mode": {
    "name": "ipython",
    "version": 3
   },
   "file_extension": ".py",
   "mimetype": "text/x-python",
   "name": "python",
   "nbconvert_exporter": "python",
   "pygments_lexer": "ipython3",
   "version": "3.8.5"
  }
 },
 "nbformat": 4,
 "nbformat_minor": 4
}
