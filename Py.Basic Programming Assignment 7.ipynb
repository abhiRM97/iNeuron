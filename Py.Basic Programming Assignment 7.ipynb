{
 "cells": [
  {
   "cell_type": "code",
   "execution_count": null,
   "metadata": {},
   "outputs": [],
   "source": [
    "1.Write a Python Program to find sum of array?"
   ]
  },
  {
   "cell_type": "code",
   "execution_count": null,
   "metadata": {},
   "outputs": [],
   "source": [
    "#create an array\n",
    "arr=[12,35,64,18,92]\n",
    "#calculate sum of array elements\n",
    "for i in range(len(arr)):\n",
    "    sum+=arr[i]\n",
    "#print sum\n",
    "print(\"The sum of all the elements of array is: \",sum)\n"
   ]
  },
  {
   "cell_type": "code",
   "execution_count": null,
   "metadata": {},
   "outputs": [],
   "source": [
    "2.Write a Python Program to find largest element in an array?"
   ]
  },
  {
   "cell_type": "code",
   "execution_count": null,
   "metadata": {},
   "outputs": [],
   "source": [
    "#create an array\n",
    "arr=[12,35,64,18,92]\n",
    "#find the largest elements of an array\n",
    "def arr_large():\n",
    "    arr.sort()\n",
    "    return \"The largest element in array is \",arr[len(arr)-1]\n",
    "#print the largest element of array\n",
    "print(arr_large())"
   ]
  },
  {
   "cell_type": "code",
   "execution_count": null,
   "metadata": {},
   "outputs": [],
   "source": [
    "3.Write a Python Program for array rotation?"
   ]
  },
  {
   "cell_type": "code",
   "execution_count": null,
   "metadata": {},
   "outputs": [],
   "source": [
    "#create an array\n",
    "arr=[12,35,64,18,92]\n",
    "#rotate the array\n",
    "def arr_rotate():\n",
    "    arr.reverse()\n",
    "    return arr\n",
    "#print the ratates array\n",
    "print(arr_rotate())  "
   ]
  },
  {
   "cell_type": "code",
   "execution_count": null,
   "metadata": {},
   "outputs": [],
   "source": [
    "4.Write a Python Program to Split the array and add the first part to the end?"
   ]
  },
  {
   "cell_type": "code",
   "execution_count": null,
   "metadata": {},
   "outputs": [],
   "source": [
    "#create an array\n",
    "arr=[12,15,14,78,89,65]\n",
    "# Python program to split array and move first part to end.\n",
    "\n",
    "def splitArr(arr, n, k):\n",
    "    for i in range(0, k):\n",
    "        x = arr[0]\n",
    "        for j in range(0, n-1):\n",
    "            arr[j] = arr[j + 1]\n",
    "        arr[n-1] = x\n",
    "        \n",
    "n = len(arr)\n",
    "position=2\n",
    "splitArr(arr, n, position)\n",
    "\n",
    "for i in range(0, n):\n",
    "\tprint(arr[i], end = ' ')\n"
   ]
  },
  {
   "cell_type": "code",
   "execution_count": null,
   "metadata": {},
   "outputs": [],
   "source": [
    "5.Write a Python Program to check if given array is Monotonic?"
   ]
  },
  {
   "cell_type": "code",
   "execution_count": null,
   "metadata": {},
   "outputs": [],
   "source": [
    "arr=[12,35,64,18,92]\n",
    "# Check if given array is Monotonic\n",
    "def is_it_Monotonic(Arr):\n",
    "    return (all(Arr[i] <= Arr[i + 1] for i in range(r- 1)) or\n",
    "            all(Arr[i] >= Arr[i + 1] for i in range(r- 1)))\n",
    "# Print result\n",
    "print(is_it_Monotonic(Arr))"
   ]
  }
 ],
 "metadata": {
  "kernelspec": {
   "display_name": "Python 3",
   "language": "python",
   "name": "python3"
  },
  "language_info": {
   "codemirror_mode": {
    "name": "ipython",
    "version": 3
   },
   "file_extension": ".py",
   "mimetype": "text/x-python",
   "name": "python",
   "nbconvert_exporter": "python",
   "pygments_lexer": "ipython3",
   "version": "3.8.5"
  }
 },
 "nbformat": 4,
 "nbformat_minor": 4
}
