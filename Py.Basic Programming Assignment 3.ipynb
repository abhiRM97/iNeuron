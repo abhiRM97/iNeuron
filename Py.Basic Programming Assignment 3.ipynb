{
 "cells": [
  {
   "cell_type": "code",
   "execution_count": null,
   "metadata": {},
   "outputs": [],
   "source": [
    "1.Write a Python Program to Find the Factorial of a Number?"
   ]
  },
  {
   "cell_type": "code",
   "execution_count": null,
   "metadata": {},
   "outputs": [],
   "source": [
    "#take any number as input\n",
    "n=int(input(\"Enter the number to find factorial:\"))\n",
    "import math\n",
    "#calculate factorial\n",
    "F=math.factorial(n)\n",
    "#print the factorial of given number\n",
    "print(\"The factorial of {} is {}\".format(n,F))"
   ]
  },
  {
   "cell_type": "code",
   "execution_count": null,
   "metadata": {},
   "outputs": [],
   "source": [
    "2.Write a Python Program to Display the multiplication Table?"
   ]
  },
  {
   "cell_type": "code",
   "execution_count": null,
   "metadata": {},
   "outputs": [],
   "source": [
    "#take number to display multiplication table\n",
    "n=int(input(\"Enter the number to display multiplication table:\"))\n",
    "#print the multiplication table\n",
    "for i in range(11):\n",
    "    print('{} X {} = {}'.format(n,i,n*i))"
   ]
  },
  {
   "cell_type": "code",
   "execution_count": null,
   "metadata": {},
   "outputs": [],
   "source": [
    "3.Write a Python Program to Print the Fibonacci sequence?"
   ]
  },
  {
   "cell_type": "code",
   "execution_count": null,
   "metadata": {},
   "outputs": [],
   "source": [
    "#take the number of terms required for Fibonacci sequence\n",
    "n=int(input(\"Enter the number of terms required:\"))\n",
    "n1=0\n",
    "n2=1\n",
    "count=0\n",
    "#find fibonacci sequence\n",
    "if n>=0:\n",
    "    if n==1:\n",
    "        print(\"Fibonacci sequence upto term {} is: {}\".format(n,n1))\n",
    "    else:\n",
    "        Result=[]\n",
    "        for i in range(n):\n",
    "            Result.append(n1)\n",
    "            nth=n1+n2\n",
    "            n1=n2\n",
    "            n2=nth\n",
    "            count+=1\n",
    "        #print Fibonacci sequence\n",
    "        print(\"Fibonacci sequence upto term {} is {}\".format(n,Result))"
   ]
  },
  {
   "cell_type": "code",
   "execution_count": null,
   "metadata": {},
   "outputs": [],
   "source": [
    "4.Write a Python Program to Check Armstrong Number?"
   ]
  },
  {
   "cell_type": "code",
   "execution_count": null,
   "metadata": {},
   "outputs": [],
   "source": [
    "#take a number as input\n",
    "n=int(input(\"Enter a number:\"))\n",
    "Order=len(str(n))\n",
    "sum=0\n",
    "temp=n\n",
    "#check if the given number is a Armstrong number or not\n",
    "while temp>0:\n",
    "    d=temp%10\n",
    "    sum+=d**Order\n",
    "    temp//=10\n",
    "#print results\n",
    "if sum ==n:\n",
    "    print(\"The given number is a Armstrong number\")\n",
    "else:\n",
    "    print(\"The given number is not an Armstrong number\")"
   ]
  },
  {
   "cell_type": "code",
   "execution_count": null,
   "metadata": {},
   "outputs": [],
   "source": [
    "5.Write a Python Program to Find Armstrong Number in an Interval?"
   ]
  },
  {
   "cell_type": "code",
   "execution_count": null,
   "metadata": {},
   "outputs": [],
   "source": [
    "#take upper and lower limit for interval as input\n",
    "l=int(input(\"Enter lower limit for range:\"))\n",
    "u=int(input(\"Enter upper limit for range:\"))\n",
    "L=[]\n",
    "#check if the number is a armstrong number or not\n",
    "for i in range(l,u+1):\n",
    "    Order=len(str(i))\n",
    "    sum=0\n",
    "    temp=i\n",
    "    while temp>0:\n",
    "        d=temp%10\n",
    "        sum+=d**Order\n",
    "        temp//=10\n",
    "    if sum ==i:\n",
    "        L.append(i)\n",
    "#print result\n",
    "print(\"In range of {} - {}, these numbers are Armstrong numbers: {}\".format(l,u,L))"
   ]
  },
  {
   "cell_type": "code",
   "execution_count": null,
   "metadata": {},
   "outputs": [],
   "source": [
    "6.Write a Python Program to Find the Sum of Natural Numbers?"
   ]
  },
  {
   "cell_type": "code",
   "execution_count": null,
   "metadata": {},
   "outputs": [],
   "source": [
    "#take a number as input\n",
    "n=int(input(\"Enter a number for summation:\"))\n",
    "#check if the given number is a natural number or not\n",
    "if n<=0:\n",
    "    print(\"Enter a positive number\")\n",
    "#calculate summation\n",
    "sum=0\n",
    "while n>0:\n",
    "    sum+=n\n",
    "    n-=1\n",
    "#print result\n",
    "print(\"The sum of all natural number upto {} is {}\".format(n,sum))"
   ]
  }
 ],
 "metadata": {
  "kernelspec": {
   "display_name": "Python 3",
   "language": "python",
   "name": "python3"
  },
  "language_info": {
   "codemirror_mode": {
    "name": "ipython",
    "version": 3
   },
   "file_extension": ".py",
   "mimetype": "text/x-python",
   "name": "python",
   "nbconvert_exporter": "python",
   "pygments_lexer": "ipython3",
   "version": "3.8.5"
  }
 },
 "nbformat": 4,
 "nbformat_minor": 4
}
